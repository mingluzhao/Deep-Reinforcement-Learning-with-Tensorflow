{
 "cells": [
  {
   "cell_type": "code",
   "execution_count": 2,
   "metadata": {
    "pycharm": {
     "is_executing": false
    }
   },
   "outputs": [
    {
     "ename": "ModuleNotFoundError",
     "evalue": "No module named 'functionTools'",
     "output_type": "error",
     "traceback": [
      "\u001b[0;31m---------------------------------------------------------------------------\u001b[0m",
      "\u001b[0;31mModuleNotFoundError\u001b[0m                       Traceback (most recent call last)",
      "\u001b[0;32m<ipython-input-2-fb42bfd218a0>\u001b[0m in \u001b[0;36m<module>\u001b[0;34m\u001b[0m\n\u001b[1;32m      7\u001b[0m \u001b[0;31m# sys.path.append(os.path.join(dirName, '..', '..'))\u001b[0m\u001b[0;34m\u001b[0m\u001b[0;34m\u001b[0m\u001b[0;34m\u001b[0m\u001b[0m\n\u001b[1;32m      8\u001b[0m \u001b[0;34m\u001b[0m\u001b[0m\n\u001b[0;32m----> 9\u001b[0;31m \u001b[0;32mfrom\u001b[0m \u001b[0mfunctionTools\u001b[0m\u001b[0;34m.\u001b[0m\u001b[0mloadSaveModel\u001b[0m \u001b[0;32mimport\u001b[0m \u001b[0msaveToPickle\u001b[0m\u001b[0;34m,\u001b[0m \u001b[0mrestoreVariables\u001b[0m\u001b[0;34m,\u001b[0m \u001b[0mloadFromPickle\u001b[0m\u001b[0;34m\u001b[0m\u001b[0;34m\u001b[0m\u001b[0m\n\u001b[0m",
      "\u001b[0;31mModuleNotFoundError\u001b[0m: No module named 'functionTools'"
     ]
    }
   ],
   "source": [
    "import os\n",
    "import sys\n",
    "# os.environ['TF_CPP_MIN_LOG_LEVEL'] = '2'\n",
    "# os.environ['KMP_DUPLICATE_LIB_OK']='True'\n",
    "# dirName = os.path.dirname(__file__)\n",
    "# sys.path.append(os.path.join(dirName, '..'))\n",
    "# sys.path.append(os.path.join(dirName, '..', '..'))\n",
    "\n",
    "from functionTools.loadSaveModel import saveToPickle, restoreVariables, loadFromPickle\n"
   ]
  },
  {
   "cell_type": "code",
   "execution_count": 3,
   "metadata": {
    "pycharm": {
     "is_executing": false,
     "name": "#%%\n"
    }
   },
   "outputs": [],
   "source": [
    "import itertools as it\n",
    "import matplotlib.pyplot as plt\n",
    "import seaborn as sns\n",
    "import numpy as np\n",
    "import pandas as pd\n",
    "\n",
    "def main():\n",
    "    resultPath = os.path.join(dirName, '..', 'evalResults')\n",
    "    resultLoc = os.path.join(resultPath, 'evalRewardWithKillProbAndDistSensitiveNoBiteRewKillInfo_allConditions.pkl')\n",
    "    resultDF = loadFromPickle(resultLoc)\n",
    "\n",
    "    independentVariables = dict()\n",
    "    independentVariables['numWolves'] = ['2x', '3x', '4x', '5x', '6x']\n",
    "    independentVariables['sheepSpeedMultiplier'] = ['0.5s', '0.625s', '0.75s', '0.875s', '1.0s']\n",
    "    independentVariables['costActionRatio'] = ['.0c', '.005c', '.01c', '.015c', '.02c', '.025c', '.03c']\n",
    "    independentVariables['rewardSensitivityToDistance'] = ['0.0r', '0.5r', '1.0r', '1.5r', '2.0r', '2.5r', '3.0r']\n",
    "\n",
    "    from statsmodels.formula.api import ols\n",
    "    import statsmodels.api as sm\n",
    "\n",
    "    # model = ols(\"kill ~ C(temperature, Sum) + C(chemical, Sum) + C(method, Sum) + C(temperature, Sum):C(method, Sum)\",\n",
    "    #             data=manufac).fit()\n",
    "    model = ols(\"meanKill ~ C(numWolves) + C(sheepSpeedMultiplier) + C(costActionRatio) + C(rewardSensitivityToDistance) + C(numWolves):C(sheepSpeedMultiplier) +  C(numWolves):C(costActionRatio) +  C(numWolves):C(rewardSensitivityToDistance) + C(sheepSpeedMultiplier):C(costActionRatio) +  C(sheepSpeedMultiplier):C(rewardSensitivityToDistance) +  C(costActionRatio):C(rewardSensitivityToDistance)\",data=resultDF.reset_index()).fit()\n",
    "\n",
    "    aov_table = sm.stats.anova_lm(model, typ=3)\n",
    "    print(aov_table)\n"
   ]
  },
  {
   "cell_type": "code",
   "execution_count": 4,
   "metadata": {},
   "outputs": [
    {
     "ename": "NameError",
     "evalue": "name 'dirName' is not defined",
     "output_type": "error",
     "traceback": [
      "\u001b[0;31m---------------------------------------------------------------------------\u001b[0m",
      "\u001b[0;31mNameError\u001b[0m                                 Traceback (most recent call last)",
      "\u001b[0;32m<ipython-input-4-b493456086e6>\u001b[0m in \u001b[0;36m<module>\u001b[0;34m\u001b[0m\n\u001b[0;32m----> 1\u001b[0;31m \u001b[0mos\u001b[0m\u001b[0;34m.\u001b[0m\u001b[0mpath\u001b[0m\u001b[0;34m.\u001b[0m\u001b[0mjoin\u001b[0m\u001b[0;34m(\u001b[0m\u001b[0mdirName\u001b[0m\u001b[0;34m,\u001b[0m \u001b[0;34m'..'\u001b[0m\u001b[0;34m,\u001b[0m \u001b[0;34m'evalResults'\u001b[0m\u001b[0;34m)\u001b[0m\u001b[0;34m\u001b[0m\u001b[0;34m\u001b[0m\u001b[0m\n\u001b[0m",
      "\u001b[0;31mNameError\u001b[0m: name 'dirName' is not defined"
     ]
    }
   ],
   "source": [
    "os.path.join(dirName, '..', 'evalResults')"
   ]
  },
  {
   "cell_type": "code",
   "execution_count": null,
   "metadata": {},
   "outputs": [],
   "source": []
  }
 ],
 "metadata": {
  "kernelspec": {
   "display_name": "Python 3",
   "language": "python",
   "name": "python3"
  },
  "language_info": {
   "codemirror_mode": {
    "name": "ipython",
    "version": 3
   },
   "file_extension": ".py",
   "mimetype": "text/x-python",
   "name": "python",
   "nbconvert_exporter": "python",
   "pygments_lexer": "ipython3",
   "version": "3.7.3"
  },
  "pycharm": {
   "stem_cell": {
    "cell_type": "raw",
    "metadata": {
     "collapsed": false
    },
    "source": []
   }
  }
 },
 "nbformat": 4,
 "nbformat_minor": 1
}
